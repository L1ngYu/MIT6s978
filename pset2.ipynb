{
 "cells": [
  {
   "cell_type": "markdown",
   "metadata": {
    "id": "4glFUe2R9uRc"
   },
   "source": [
    "# **0. Load Preliminary Functions**"
   ]
  },
  {
   "cell_type": "markdown",
   "metadata": {
    "id": "W37lUOmT9yle"
   },
   "source": [
    "# a. Import Libraries and Functions"
   ]
  },
  {
   "cell_type": "code",
   "metadata": {
    "id": "-iydqiNU5fGu",
    "ExecuteTime": {
     "end_time": "2025-01-04T09:17:41.085172Z",
     "start_time": "2025-01-04T09:17:39.245542Z"
    }
   },
   "source": [
    "import torch\n",
    "import torch.nn as nn\n",
    "import torch.nn.functional as F\n",
    "\n",
    "from torchvision import datasets\n",
    "from torchvision import transforms\n",
    "import matplotlib.pyplot as plt\n",
    "from tqdm.notebook import tqdm\n",
    "import numpy as np\n",
    "from mpl_toolkits.mplot3d import Axes3D\n",
    "\n",
    "device = torch.device('cuda')\n"
   ],
   "outputs": [],
   "execution_count": 1
  },
  {
   "cell_type": "markdown",
   "metadata": {
    "id": "Yb2COTm-ocln"
   },
   "source": [
    "# b. MNIST Data Loader"
   ]
  },
  {
   "cell_type": "code",
   "metadata": {
    "id": "-J1xVnVE_6Zm",
    "ExecuteTime": {
     "end_time": "2025-01-04T09:17:41.125236Z",
     "start_time": "2025-01-04T09:17:41.086950Z"
    }
   },
   "source": [
    "def binarize_image(tensor):\n",
    "    return (tensor > 0.5).float()\n",
    "\n",
    "tensor_transform = transforms.Compose([\n",
    "    transforms.ToTensor(),\n",
    "    transforms.Lambda(binarize_image)\n",
    "])\n",
    "\n",
    "batch_size = 128\n",
    "train_dataset = datasets.MNIST(root = \"./data\",\n",
    "\t\t\t\t\t\t\t\t\ttrain = True,\n",
    "\t\t\t\t\t\t\t\t\tdownload = True,\n",
    "\t\t\t\t\t\t\t\t\ttransform = tensor_transform)\n",
    "test_dataset = datasets.MNIST(root = \"./data\",\n",
    "\t\t\t\t\t\t\t\t\ttrain = False,\n",
    "\t\t\t\t\t\t\t\t\tdownload = True,\n",
    "\t\t\t\t\t\t\t\t\ttransform = tensor_transform)\n",
    "\n",
    "train_loader = torch.utils.data.DataLoader(dataset = train_dataset,\n",
    "\t\t\t\t\t\t\t   batch_size = batch_size,\n",
    "\t\t\t\t\t\t\t\t shuffle = True)\n",
    "test_loader = torch.utils.data.DataLoader(dataset = test_dataset,\n",
    "\t\t\t\t\t\t\t   batch_size = batch_size,\n",
    "\t\t\t\t\t\t\t\t shuffle = False)\n"
   ],
   "outputs": [],
   "execution_count": 2
  },
  {
   "cell_type": "markdown",
   "metadata": {
    "id": "0_5PFYwtohYY"
   },
   "source": [
    "# **1. PixelCNN**\n",
    "\n",
    "\n",
    "# a. Training Function"
   ]
  },
  {
   "cell_type": "code",
   "metadata": {
    "id": "jDICmZADIiUE",
    "ExecuteTime": {
     "end_time": "2025-01-04T09:17:41.310187Z",
     "start_time": "2025-01-04T09:17:41.285610Z"
    }
   },
   "source": [
    "bce = F.binary_cross_entropy\n",
    "\n",
    "def train(dataloader, model, optimizer, epochs):\n",
    "    losses = []\n",
    "\n",
    "    for epoch in tqdm(range(epochs), desc='Epochs'):\n",
    "        running_loss = 0.0\n",
    "        batch_progress = tqdm(dataloader, desc='Batches', leave=False)\n",
    "\n",
    "        for iter, (images, labels) in enumerate(batch_progress):\n",
    "            images = images.to(device)\n",
    "            tgt = images.clone()\n",
    "            pred = model(images)\n",
    "            loss = bce(pred, tgt)\n",
    "\n",
    "            optimizer.zero_grad()\n",
    "            loss.backward()\n",
    "            optimizer.step()\n",
    "\n",
    "            running_loss += loss.item()\n",
    "\n",
    "            avg_loss = running_loss * batch_size / len(train_dataset)\n",
    "            losses.append(loss.item())\n",
    "\n",
    "        tqdm.write(f'----\\nEpoch [{epoch+1}/{epochs}], Average Loss: {avg_loss:.4f}\\n')\n",
    "\n",
    "    return losses\n"
   ],
   "outputs": [],
   "execution_count": 3
  },
  {
   "cell_type": "markdown",
   "metadata": {
    "id": "N0mqbPsCopVJ"
   },
   "source": [
    "# b. Masked Convolution"
   ]
  },
  {
   "cell_type": "code",
   "metadata": {
    "id": "46O03X-498n0",
    "ExecuteTime": {
     "end_time": "2025-01-04T09:17:41.345536Z",
     "start_time": "2025-01-04T09:17:41.325638Z"
    }
   },
   "source": [
    "class MaskedConv2d(nn.Conv2d):\n",
    "    def __init__(self, mask_type, in_channels, out_channels, kernel_size, stride=1,\n",
    "                 padding=0, dilation=1, groups=1, bias=True):\n",
    "        super(MaskedConv2d, self).__init__(in_channels, out_channels, kernel_size, stride,\n",
    "                                          padding, dilation, groups, bias)\n",
    "        assert mask_type in {'A', 'B'}\n",
    "        self.mask_type = mask_type\n",
    "        self.register_buffer('mask', torch.zeros_like(self.weight))\n",
    "        k_h, k_w = self.kernel_size\n",
    "        center_h = k_h // 2\n",
    "        center_w = k_w // 2\n",
    "\n",
    "        for h in range(k_h):\n",
    "            for w in range(k_w):\n",
    "                if h < center_h:\n",
    "                    self.mask[:, :, h, w] = 1\n",
    "                elif h == center_h and w < center_w:\n",
    "                    self.mask[:, :, h, w] = 1\n",
    "                elif self.mask_type == 'B' and h == center_h and w == center_w:\n",
    "                    self.mask[:, :, h, w] = 1\n",
    "\n",
    "    def forward(self, x):\n",
    "        masked_weight = self.weight * self.mask\n",
    "        return F.conv2d(x, masked_weight, self.bias, self.stride,\n",
    "                        self.padding, self.dilation, self.groups)"
   ],
   "outputs": [],
   "execution_count": 4
  },
  {
   "cell_type": "markdown",
   "metadata": {
    "id": "XYUg7AjHottB"
   },
   "source": [
    "# c. Model"
   ]
  },
  {
   "cell_type": "code",
   "metadata": {
    "id": "hrG8n5WJAo51",
    "ExecuteTime": {
     "end_time": "2025-01-04T09:17:41.377542Z",
     "start_time": "2025-01-04T09:17:41.362541Z"
    }
   },
   "source": [
    "class ResidualBlock(nn.Module):\n",
    "    def __init__(self, in_channels):\n",
    "        super().__init__()\n",
    "\n",
    "        self.conv1 = nn.Sequential(\n",
    "            nn.Conv2d(in_channels, in_channels // 2, 1),\n",
    "            nn.ReLU(inplace=True)\n",
    "        )\n",
    "        self.conv2 = nn.Sequential(\n",
    "            MaskedConv2d(\"B\", in_channels // 2, in_channels // 2, 3, padding=1),\n",
    "            nn.ReLU(inplace=True)\n",
    "        )\n",
    "        self.conv3 = nn.Sequential(\n",
    "            nn.Conv2d(in_channels // 2, in_channels, 1),\n",
    "            nn.ReLU(inplace=True)\n",
    "        )\n",
    "\n",
    "    def forward(self, x):\n",
    "        inputs = x\n",
    "        x = self.conv1(x)\n",
    "        x = self.conv2(x)\n",
    "        x = self.conv3(x)\n",
    "        return inputs + x\n",
    "\n",
    "class PixelCNN(nn.Module):\n",
    "    def __init__(self, input_channels, num_filters, kernel_size, num_layers, num_output_features):\n",
    "        super(PixelCNN, self).__init__()\n",
    "        self.input_channels = input_channels\n",
    "        self.num_filters = num_filters\n",
    "        self.kernel_size = kernel_size\n",
    "        self.num_layers = num_layers\n",
    "        self.num_output_features = num_output_features\n",
    "        self.layers = nn.ModuleList()\n",
    "\n",
    "        # Initial masked convolution (Type A)\n",
    "        self.layers.append(MaskedConv2d('A', input_channels, num_filters, kernel_size, padding=kernel_size // 2))\n",
    "        self.layers.append(nn.ReLU())\n",
    "        self.res_blocks = nn.Sequential(\n",
    "            *[ResidualBlock(num_filters) for _ in range(self.num_layers)]\n",
    "        )\n",
    "\n",
    "        # Intermediate masked convolutions (Type B)\n",
    "        for _ in range(num_layers - 2):\n",
    "            self.layers.append(MaskedConv2d('B', num_filters, num_filters, kernel_size, padding=kernel_size // 2))\n",
    "            self.layers.append(nn.ReLU())\n",
    "\n",
    "        # Output layers\n",
    "        self.layers.append(MaskedConv2d('B', num_filters, num_filters, 1))\n",
    "        self.layers.append(nn.ReLU())\n",
    "        self.layers.append(MaskedConv2d('B', num_filters, num_output_features, 1))\n",
    "        self.sigmoid = nn.Sigmoid()\n",
    "\n",
    "    def forward(self, x):\n",
    "        out = x\n",
    "        for layer in self.layers:\n",
    "            out = layer(out)\n",
    "        return self.sigmoid(out)"
   ],
   "outputs": [],
   "execution_count": 5
  },
  {
   "cell_type": "markdown",
   "metadata": {
    "id": "S2KxDaEBo-9Z"
   },
   "source": [
    "# d. Training"
   ]
  },
  {
   "cell_type": "code",
   "metadata": {
    "id": "_n_2PGRUAzou",
    "ExecuteTime": {
     "end_time": "2025-01-04T09:24:41.960029Z",
     "start_time": "2025-01-04T09:17:41.397312Z"
    }
   },
   "source": [
    "##################\n",
    "### Problem 2(c): Training\n",
    "epochs = 20\n",
    "model = PixelCNN(1,64,7,5,1).to(device)\n",
    "optimizer = torch.optim.Adam(model.parameters(), lr=1e-3)\n",
    "\n",
    "log = train(train_loader, model, optimizer, epochs)\n",
    "##################\n"
   ],
   "outputs": [
    {
     "data": {
      "text/plain": [
       "Epochs:   0%|          | 0/20 [00:00<?, ?it/s]"
      ],
      "application/vnd.jupyter.widget-view+json": {
       "version_major": 2,
       "version_minor": 0,
       "model_id": "be5f15c220764a5a9b9bdc30fa7931c1"
      }
     },
     "metadata": {},
     "output_type": "display_data"
    },
    {
     "data": {
      "text/plain": [
       "Batches:   0%|          | 0/469 [00:00<?, ?it/s]"
      ],
      "application/vnd.jupyter.widget-view+json": {
       "version_major": 2,
       "version_minor": 0,
       "model_id": "bca987372c764095bd8d7d0285d729c5"
      }
     },
     "metadata": {},
     "output_type": "display_data"
    },
    {
     "name": "stdout",
     "output_type": "stream",
     "text": [
      "----\n",
      "Epoch [1/20], Average Loss: 0.1351\n",
      "\n"
     ]
    },
    {
     "data": {
      "text/plain": [
       "Batches:   0%|          | 0/469 [00:00<?, ?it/s]"
      ],
      "application/vnd.jupyter.widget-view+json": {
       "version_major": 2,
       "version_minor": 0,
       "model_id": "30c952590c59409f87943023ea17a816"
      }
     },
     "metadata": {},
     "output_type": "display_data"
    },
    {
     "name": "stdout",
     "output_type": "stream",
     "text": [
      "----\n",
      "Epoch [2/20], Average Loss: 0.0887\n",
      "\n"
     ]
    },
    {
     "data": {
      "text/plain": [
       "Batches:   0%|          | 0/469 [00:00<?, ?it/s]"
      ],
      "application/vnd.jupyter.widget-view+json": {
       "version_major": 2,
       "version_minor": 0,
       "model_id": "0ded401390784e049dac03f86bde9a56"
      }
     },
     "metadata": {},
     "output_type": "display_data"
    },
    {
     "name": "stdout",
     "output_type": "stream",
     "text": [
      "----\n",
      "Epoch [3/20], Average Loss: 0.0863\n",
      "\n"
     ]
    },
    {
     "data": {
      "text/plain": [
       "Batches:   0%|          | 0/469 [00:00<?, ?it/s]"
      ],
      "application/vnd.jupyter.widget-view+json": {
       "version_major": 2,
       "version_minor": 0,
       "model_id": "530b347cf8fd437b8532dd7cd3b37b87"
      }
     },
     "metadata": {},
     "output_type": "display_data"
    },
    {
     "name": "stdout",
     "output_type": "stream",
     "text": [
      "----\n",
      "Epoch [4/20], Average Loss: 0.0850\n",
      "\n"
     ]
    },
    {
     "data": {
      "text/plain": [
       "Batches:   0%|          | 0/469 [00:00<?, ?it/s]"
      ],
      "application/vnd.jupyter.widget-view+json": {
       "version_major": 2,
       "version_minor": 0,
       "model_id": "fdc1912f745b49d481fbf848a2023fdf"
      }
     },
     "metadata": {},
     "output_type": "display_data"
    },
    {
     "name": "stdout",
     "output_type": "stream",
     "text": [
      "----\n",
      "Epoch [5/20], Average Loss: 0.0841\n",
      "\n"
     ]
    },
    {
     "data": {
      "text/plain": [
       "Batches:   0%|          | 0/469 [00:00<?, ?it/s]"
      ],
      "application/vnd.jupyter.widget-view+json": {
       "version_major": 2,
       "version_minor": 0,
       "model_id": "21f3640cb0da4cdb84d398dc82eaf435"
      }
     },
     "metadata": {},
     "output_type": "display_data"
    },
    {
     "name": "stdout",
     "output_type": "stream",
     "text": [
      "----\n",
      "Epoch [6/20], Average Loss: 0.0835\n",
      "\n"
     ]
    },
    {
     "data": {
      "text/plain": [
       "Batches:   0%|          | 0/469 [00:00<?, ?it/s]"
      ],
      "application/vnd.jupyter.widget-view+json": {
       "version_major": 2,
       "version_minor": 0,
       "model_id": "4f5db8b351484b9db9fafd593f8f9a63"
      }
     },
     "metadata": {},
     "output_type": "display_data"
    },
    {
     "name": "stdout",
     "output_type": "stream",
     "text": [
      "----\n",
      "Epoch [7/20], Average Loss: 0.0830\n",
      "\n"
     ]
    },
    {
     "data": {
      "text/plain": [
       "Batches:   0%|          | 0/469 [00:00<?, ?it/s]"
      ],
      "application/vnd.jupyter.widget-view+json": {
       "version_major": 2,
       "version_minor": 0,
       "model_id": "993b0b5bf726420cb82d9b90e6bb8bae"
      }
     },
     "metadata": {},
     "output_type": "display_data"
    },
    {
     "name": "stdout",
     "output_type": "stream",
     "text": [
      "----\n",
      "Epoch [8/20], Average Loss: 0.0825\n",
      "\n"
     ]
    },
    {
     "data": {
      "text/plain": [
       "Batches:   0%|          | 0/469 [00:00<?, ?it/s]"
      ],
      "application/vnd.jupyter.widget-view+json": {
       "version_major": 2,
       "version_minor": 0,
       "model_id": "e62730ec049a4177af3b281efabc5499"
      }
     },
     "metadata": {},
     "output_type": "display_data"
    },
    {
     "name": "stdout",
     "output_type": "stream",
     "text": [
      "----\n",
      "Epoch [9/20], Average Loss: 0.0821\n",
      "\n"
     ]
    },
    {
     "data": {
      "text/plain": [
       "Batches:   0%|          | 0/469 [00:00<?, ?it/s]"
      ],
      "application/vnd.jupyter.widget-view+json": {
       "version_major": 2,
       "version_minor": 0,
       "model_id": "e8ff6f56e8ad4a9f9ec3d9048236cc38"
      }
     },
     "metadata": {},
     "output_type": "display_data"
    },
    {
     "name": "stdout",
     "output_type": "stream",
     "text": [
      "----\n",
      "Epoch [10/20], Average Loss: 0.0818\n",
      "\n"
     ]
    },
    {
     "data": {
      "text/plain": [
       "Batches:   0%|          | 0/469 [00:00<?, ?it/s]"
      ],
      "application/vnd.jupyter.widget-view+json": {
       "version_major": 2,
       "version_minor": 0,
       "model_id": "e97f71a35dad416cb5e0c31db70b0440"
      }
     },
     "metadata": {},
     "output_type": "display_data"
    },
    {
     "name": "stdout",
     "output_type": "stream",
     "text": [
      "----\n",
      "Epoch [11/20], Average Loss: 0.0815\n",
      "\n"
     ]
    },
    {
     "data": {
      "text/plain": [
       "Batches:   0%|          | 0/469 [00:00<?, ?it/s]"
      ],
      "application/vnd.jupyter.widget-view+json": {
       "version_major": 2,
       "version_minor": 0,
       "model_id": "bfd5a42d02e6490f8f313cc03009663c"
      }
     },
     "metadata": {},
     "output_type": "display_data"
    },
    {
     "name": "stdout",
     "output_type": "stream",
     "text": [
      "----\n",
      "Epoch [12/20], Average Loss: 0.0813\n",
      "\n"
     ]
    },
    {
     "data": {
      "text/plain": [
       "Batches:   0%|          | 0/469 [00:00<?, ?it/s]"
      ],
      "application/vnd.jupyter.widget-view+json": {
       "version_major": 2,
       "version_minor": 0,
       "model_id": "39aa28ef915b4e63b695235fd7a76f8b"
      }
     },
     "metadata": {},
     "output_type": "display_data"
    },
    {
     "name": "stdout",
     "output_type": "stream",
     "text": [
      "----\n",
      "Epoch [13/20], Average Loss: 0.0810\n",
      "\n"
     ]
    },
    {
     "data": {
      "text/plain": [
       "Batches:   0%|          | 0/469 [00:00<?, ?it/s]"
      ],
      "application/vnd.jupyter.widget-view+json": {
       "version_major": 2,
       "version_minor": 0,
       "model_id": "e31dc58a9b9241bea4218b2084921f04"
      }
     },
     "metadata": {},
     "output_type": "display_data"
    },
    {
     "name": "stdout",
     "output_type": "stream",
     "text": [
      "----\n",
      "Epoch [14/20], Average Loss: 0.0807\n",
      "\n"
     ]
    },
    {
     "data": {
      "text/plain": [
       "Batches:   0%|          | 0/469 [00:00<?, ?it/s]"
      ],
      "application/vnd.jupyter.widget-view+json": {
       "version_major": 2,
       "version_minor": 0,
       "model_id": "03869d012724471fa4ebd8d2dff8f0f1"
      }
     },
     "metadata": {},
     "output_type": "display_data"
    },
    {
     "name": "stdout",
     "output_type": "stream",
     "text": [
      "----\n",
      "Epoch [15/20], Average Loss: 0.0805\n",
      "\n"
     ]
    },
    {
     "data": {
      "text/plain": [
       "Batches:   0%|          | 0/469 [00:00<?, ?it/s]"
      ],
      "application/vnd.jupyter.widget-view+json": {
       "version_major": 2,
       "version_minor": 0,
       "model_id": "128b00e57c36403f9be888ddc46ecc85"
      }
     },
     "metadata": {},
     "output_type": "display_data"
    },
    {
     "name": "stdout",
     "output_type": "stream",
     "text": [
      "----\n",
      "Epoch [16/20], Average Loss: 0.0803\n",
      "\n"
     ]
    },
    {
     "data": {
      "text/plain": [
       "Batches:   0%|          | 0/469 [00:00<?, ?it/s]"
      ],
      "application/vnd.jupyter.widget-view+json": {
       "version_major": 2,
       "version_minor": 0,
       "model_id": "f1501aa5de8f425089d7a45ea73361b3"
      }
     },
     "metadata": {},
     "output_type": "display_data"
    },
    {
     "name": "stdout",
     "output_type": "stream",
     "text": [
      "----\n",
      "Epoch [17/20], Average Loss: 0.0802\n",
      "\n"
     ]
    },
    {
     "data": {
      "text/plain": [
       "Batches:   0%|          | 0/469 [00:00<?, ?it/s]"
      ],
      "application/vnd.jupyter.widget-view+json": {
       "version_major": 2,
       "version_minor": 0,
       "model_id": "8de967c1e6d44dcd96e6141b9c2a0a96"
      }
     },
     "metadata": {},
     "output_type": "display_data"
    },
    {
     "name": "stdout",
     "output_type": "stream",
     "text": [
      "----\n",
      "Epoch [18/20], Average Loss: 0.0800\n",
      "\n"
     ]
    },
    {
     "data": {
      "text/plain": [
       "Batches:   0%|          | 0/469 [00:00<?, ?it/s]"
      ],
      "application/vnd.jupyter.widget-view+json": {
       "version_major": 2,
       "version_minor": 0,
       "model_id": "0d2dfbc0302a4cc1aec67357cbf84301"
      }
     },
     "metadata": {},
     "output_type": "display_data"
    },
    {
     "name": "stdout",
     "output_type": "stream",
     "text": [
      "----\n",
      "Epoch [19/20], Average Loss: 0.0798\n",
      "\n"
     ]
    },
    {
     "data": {
      "text/plain": [
       "Batches:   0%|          | 0/469 [00:00<?, ?it/s]"
      ],
      "application/vnd.jupyter.widget-view+json": {
       "version_major": 2,
       "version_minor": 0,
       "model_id": "a03b614bbac945558981018ba02dba28"
      }
     },
     "metadata": {},
     "output_type": "display_data"
    },
    {
     "name": "stdout",
     "output_type": "stream",
     "text": [
      "----\n",
      "Epoch [20/20], Average Loss: 0.0797\n",
      "\n"
     ]
    }
   ],
   "execution_count": 6
  },
  {
   "cell_type": "markdown",
   "metadata": {
    "id": "TQnZFPm_pDkc"
   },
   "source": [
    "# e. Evaluation (Reconstruction)"
   ]
  },
  {
   "cell_type": "code",
   "metadata": {
    "id": "VFFyeeEjxsxQ",
    "ExecuteTime": {
     "end_time": "2025-01-04T09:24:42.824899Z",
     "start_time": "2025-01-04T09:24:41.997586Z"
    }
   },
   "source": [
    "H, W = 28, 28\n",
    "\n",
    "with torch.no_grad():\n",
    "  for iter, (images, labels) in enumerate(test_loader):\n",
    "      images = images.to(device)\n",
    "      pred = model(images)\n",
    "\n",
    "      for i in range(H):\n",
    "          for j in range(W):\n",
    "              pred[:, :, i, j] = torch.bernoulli(pred[:, :, i, j], out=pred[:, :, i, j])\n",
    "      break\n",
    "\n",
    "samples = pred.detach().cpu().numpy().transpose(0, 2, 3, 1)\n",
    "fig, axes = plt.subplots(8, 8, figsize=(15, 15))\n",
    "\n",
    "for i in range(64):\n",
    "    sample = samples[i]\n",
    "    row, col = divmod(i, 8)\n",
    "    axes[row, col].imshow(sample, cmap='gray')\n",
    "    axes[row, col].axis('off')\n",
    "\n",
    "plt.tight_layout()\n",
    "plt.show()"
   ],
   "outputs": [
    {
     "data": {
      "text/plain": [
       "<Figure size 1500x1500 with 64 Axes>"
      ],
      "image/png": "[encoded data removed]"
     },
     "metadata": {},
     "output_type": "display_data"
    }
   ],
   "execution_count": 7
  },
  {
   "cell_type": "markdown",
   "metadata": {
    "id": "mqr0yIvYpL2_"
   },
   "source": [
    "# f. Evaluation (Generation)"
   ]
  },
  {
   "cell_type": "code",
   "metadata": {
    "id": "tQseF8t5BpPU",
    "ExecuteTime": {
     "end_time": "2025-01-04T09:24:46.574379Z",
     "start_time": "2025-01-04T09:24:42.825435Z"
    }
   },
   "source": [
    "samples = torch.zeros(size=(64, 1, H, W)).to(device)\n",
    "with torch.no_grad():\n",
    "    for i in range(H):\n",
    "        for j in range(W):\n",
    "            if j > 0 and i > 0:\n",
    "                out = model(samples)\n",
    "                samples[:, :, i, j] = torch.bernoulli(out[:, :, i, j], out=samples[:, :, i, j])\n",
    "\n",
    "samples = samples.cpu().numpy().transpose(0, 2, 3, 1)\n",
    "fig, axes = plt.subplots(8, 8, figsize=(15, 15))\n",
    "\n",
    "for i in range(64):\n",
    "    sample = samples[i]\n",
    "    row, col = divmod(i, 8)\n",
    "    axes[row, col].imshow(sample, cmap='gray')\n",
    "    axes[row, col].axis('off')\n",
    "\n",
    "plt.tight_layout()\n",
    "plt.show()"
   ],
   "outputs": [
    {
     "data": {
      "text/plain": [
       "<Figure size 1500x1500 with 64 Axes>"
      ],
      "image/png": "[encoded data removed]"
     },
     "metadata": {},
     "output_type": "display_data"
    }
   ],
   "execution_count": 8
  },
  {
   "cell_type": "markdown",
   "metadata": {
    "id": "252Jr5orpZGc"
   },
   "source": [
    "# **2. Conditional PixelCNN**\n",
    "\n",
    "\n",
    "# a. Training Function"
   ]
  },
  {
   "cell_type": "code",
   "metadata": {
    "id": "fKgicaMje-hL",
    "ExecuteTime": {
     "end_time": "2025-01-04T09:24:46.669960Z",
     "start_time": "2025-01-04T09:24:46.655768Z"
    }
   },
   "source": [
    "def train_cond(dataloader, model, optimizer, epochs, n_classes):\n",
    "    losses = []\n",
    "\n",
    "    for epoch in tqdm(range(epochs), desc='Epochs'):\n",
    "        running_loss = 0.0\n",
    "        batch_progress = tqdm(dataloader, desc='Batches', leave=False)\n",
    "\n",
    "        for iter, (images, labels) in enumerate(batch_progress):\n",
    "            images = images.to(device)\n",
    "            labels = labels.to(device)\n",
    "            tgt = images.clone()\n",
    "            labels = F.one_hot(labels, num_classes=n_classes).float()\n",
    "            pred = model(images, labels)\n",
    "            loss = bce(pred, tgt)\n",
    "\n",
    "            optimizer.zero_grad()\n",
    "            loss.backward()\n",
    "            optimizer.step()\n",
    "\n",
    "            running_loss += loss.item()\n",
    "\n",
    "            avg_loss = running_loss * batch_size / len(train_dataset)\n",
    "            losses.append(loss.item())\n",
    "\n",
    "        tqdm.write(f'Epoch [{epoch+1}/{epochs}], Average Loss: {avg_loss:.4f}\\n')\n",
    "\n",
    "    return losses"
   ],
   "outputs": [],
   "execution_count": 9
  },
  {
   "cell_type": "markdown",
   "metadata": {
    "id": "Nh9gGbKUpfFy"
   },
   "source": [
    "# b. Conditional Masked Convolution"
   ]
  },
  {
   "cell_type": "code",
   "metadata": {
    "id": "YUEQ-RzyHdrs",
    "ExecuteTime": {
     "end_time": "2025-01-04T09:24:46.770068Z",
     "start_time": "2025-01-04T09:24:46.755939Z"
    }
   },
   "source": [
    "class ConditionalMaskedConv2d(MaskedConv2d):\n",
    "    ##################\n",
    "    ### Problem 3(a): Implement ConditionalMaskedConv2d\n",
    "    def __init__(self, mask_type, in_channels, out_channels, kernel_size, stride=1,\n",
    "                 padding=0, dilation=1, groups=1, bias=True, num_classes=10):\n",
    "        super().__init__(mask_type, in_channels, out_channels, kernel_size, stride,\n",
    "                         padding, dilation, groups, bias)\n",
    "        self.num_classes = num_classes\n",
    "        self.conditional_bias = nn.Parameter(torch.zeros(out_channels, num_classes))\n",
    "\n",
    "    def forward(self, x, class_condition):\n",
    "        output = super().forward(x)\n",
    "        conditional_bias = torch.matmul(self.conditional_bias, class_condition.transpose(0, 1)).transpose(0, 1)\n",
    "        conditional_bias = conditional_bias.unsqueeze(2).unsqueeze(3)  # For broadcasting\n",
    "        return output + conditional_bias\n",
    "    ##################"
   ],
   "outputs": [],
   "execution_count": 10
  },
  {
   "cell_type": "markdown",
   "metadata": {
    "id": "XYhdWZdZpjTy"
   },
   "source": [
    "# c. Model"
   ]
  },
  {
   "cell_type": "code",
   "metadata": {
    "id": "sjICYyhWeZUI",
    "ExecuteTime": {
     "end_time": "2025-01-04T09:24:46.824754Z",
     "start_time": "2025-01-04T09:24:46.815112Z"
    }
   },
   "source": [
    "class ConditionalPixelCNN(nn.Module):\n",
    "    ##################\n",
    "    ### Problem 3(b): Implement ConditionalPixelCNN\n",
    "    def __init__(self, num_classes):\n",
    "        super().__init__()\n",
    "        self.num_classes = num_classes\n",
    "        self.conv1 = ConditionalMaskedConv2d('A', 1, 128, kernel_size=7, padding=3, num_classes=num_classes)\n",
    "        self.conv2 = ConditionalMaskedConv2d('B', 128, 128, kernel_size=3, padding=1, num_classes=num_classes)\n",
    "        self.conv3 = ConditionalMaskedConv2d('B', 128, 128, kernel_size=3, padding=1, num_classes=num_classes)\n",
    "        self.conv4 = ConditionalMaskedConv2d('B', 128, 128, kernel_size=3, padding=1, num_classes=num_classes)\n",
    "        self.conv5 = ConditionalMaskedConv2d('B', 128, 128, kernel_size=3, padding=1, num_classes=num_classes)\n",
    "        self.conv6 = nn.Conv2d(128, 1, kernel_size=1)\n",
    "\n",
    "    def forward(self, x, class_condition):\n",
    "        x = F.relu(self.conv1(x, class_condition))\n",
    "        x = F.relu(self.conv2(x, class_condition))\n",
    "        x = F.relu(self.conv3(x, class_condition))\n",
    "        x = F.relu(self.conv4(x, class_condition))\n",
    "        x = F.relu(self.conv5(x, class_condition))\n",
    "        return torch.sigmoid(self.conv6(x))\n",
    "    ##################"
   ],
   "outputs": [],
   "execution_count": 11
  },
  {
   "cell_type": "markdown",
   "metadata": {
    "id": "0V3Skf2mpoN5"
   },
   "source": [
    "# d. Training"
   ]
  },
  {
   "cell_type": "code",
   "metadata": {
    "id": "dXkK2VKIeo3K",
    "ExecuteTime": {
     "end_time": "2025-01-04T09:31:30.728423Z",
     "start_time": "2025-01-04T09:24:46.864947Z"
    }
   },
   "source": [
    "##################\n",
    "epochs = 20\n",
    "### Problem 3(c): Training\n",
    "n_classes = 10\n",
    "model = ConditionalPixelCNN(n_classes).to(device)\n",
    "optimizer = torch.optim.Adam(model.parameters(), lr=1e-3)\n",
    "\n",
    "log = train_cond(train_loader, model, optimizer, epochs, n_classes)\n",
    "##################\n"
   ],
   "outputs": [
    {
     "data": {
      "text/plain": [
       "Epochs:   0%|          | 0/20 [00:00<?, ?it/s]"
      ],
      "application/vnd.jupyter.widget-view+json": {
       "version_major": 2,
       "version_minor": 0,
       "model_id": "705281477219436da65a3c8a0eccb02a"
      }
     },
     "metadata": {},
     "output_type": "display_data"
    },
    {
     "data": {
      "text/plain": [
       "Batches:   0%|          | 0/469 [00:00<?, ?it/s]"
      ],
      "application/vnd.jupyter.widget-view+json": {
       "version_major": 2,
       "version_minor": 0,
       "model_id": "6b95bbf211f3417898ebe6c8ef107541"
      }
     },
     "metadata": {},
     "output_type": "display_data"
    },
    {
     "name": "stdout",
     "output_type": "stream",
     "text": [
      "Epoch [1/20], Average Loss: 0.1219\n",
      "\n"
     ]
    },
    {
     "data": {
      "text/plain": [
       "Batches:   0%|          | 0/469 [00:00<?, ?it/s]"
      ],
      "application/vnd.jupyter.widget-view+json": {
       "version_major": 2,
       "version_minor": 0,
       "model_id": "4c859648f6b04529ba26bc36247340f6"
      }
     },
     "metadata": {},
     "output_type": "display_data"
    },
    {
     "name": "stdout",
     "output_type": "stream",
     "text": [
      "Epoch [2/20], Average Loss: 0.0879\n",
      "\n"
     ]
    },
    {
     "data": {
      "text/plain": [
       "Batches:   0%|          | 0/469 [00:00<?, ?it/s]"
      ],
      "application/vnd.jupyter.widget-view+json": {
       "version_major": 2,
       "version_minor": 0,
       "model_id": "668986bb486b4fd8b473d017502b25ee"
      }
     },
     "metadata": {},
     "output_type": "display_data"
    },
    {
     "name": "stdout",
     "output_type": "stream",
     "text": [
      "Epoch [3/20], Average Loss: 0.0855\n",
      "\n"
     ]
    },
    {
     "data": {
      "text/plain": [
       "Batches:   0%|          | 0/469 [00:00<?, ?it/s]"
      ],
      "application/vnd.jupyter.widget-view+json": {
       "version_major": 2,
       "version_minor": 0,
       "model_id": "c6cd76c8b7b9442fac32aaa1873eb1b3"
      }
     },
     "metadata": {},
     "output_type": "display_data"
    },
    {
     "name": "stdout",
     "output_type": "stream",
     "text": [
      "Epoch [4/20], Average Loss: 0.0842\n",
      "\n"
     ]
    },
    {
     "data": {
      "text/plain": [
       "Batches:   0%|          | 0/469 [00:00<?, ?it/s]"
      ],
      "application/vnd.jupyter.widget-view+json": {
       "version_major": 2,
       "version_minor": 0,
       "model_id": "27ea53e73a384a9b82dc7e4637c72809"
      }
     },
     "metadata": {},
     "output_type": "display_data"
    },
    {
     "name": "stdout",
     "output_type": "stream",
     "text": [
      "Epoch [5/20], Average Loss: 0.0834\n",
      "\n"
     ]
    },
    {
     "data": {
      "text/plain": [
       "Batches:   0%|          | 0/469 [00:00<?, ?it/s]"
      ],
      "application/vnd.jupyter.widget-view+json": {
       "version_major": 2,
       "version_minor": 0,
       "model_id": "d9f16d569bbc471cb0baa306ebc2066b"
      }
     },
     "metadata": {},
     "output_type": "display_data"
    },
    {
     "name": "stdout",
     "output_type": "stream",
     "text": [
      "Epoch [6/20], Average Loss: 0.0829\n",
      "\n"
     ]
    },
    {
     "data": {
      "text/plain": [
       "Batches:   0%|          | 0/469 [00:00<?, ?it/s]"
      ],
      "application/vnd.jupyter.widget-view+json": {
       "version_major": 2,
       "version_minor": 0,
       "model_id": "8e90d7e4e973458c8a89618f6adbc44c"
      }
     },
     "metadata": {},
     "output_type": "display_data"
    },
    {
     "name": "stdout",
     "output_type": "stream",
     "text": [
      "Epoch [7/20], Average Loss: 0.0825\n",
      "\n"
     ]
    },
    {
     "data": {
      "text/plain": [
       "Batches:   0%|          | 0/469 [00:00<?, ?it/s]"
      ],
      "application/vnd.jupyter.widget-view+json": {
       "version_major": 2,
       "version_minor": 0,
       "model_id": "d853e5a490b640eabc92bb4fee3bae5a"
      }
     },
     "metadata": {},
     "output_type": "display_data"
    },
    {
     "name": "stdout",
     "output_type": "stream",
     "text": [
      "Epoch [8/20], Average Loss: 0.0820\n",
      "\n"
     ]
    },
    {
     "data": {
      "text/plain": [
       "Batches:   0%|          | 0/469 [00:00<?, ?it/s]"
      ],
      "application/vnd.jupyter.widget-view+json": {
       "version_major": 2,
       "version_minor": 0,
       "model_id": "8d72a82ae0eb4c5f9df35e54d40814d5"
      }
     },
     "metadata": {},
     "output_type": "display_data"
    },
    {
     "name": "stdout",
     "output_type": "stream",
     "text": [
      "Epoch [9/20], Average Loss: 0.0818\n",
      "\n"
     ]
    },
    {
     "data": {
      "text/plain": [
       "Batches:   0%|          | 0/469 [00:00<?, ?it/s]"
      ],
      "application/vnd.jupyter.widget-view+json": {
       "version_major": 2,
       "version_minor": 0,
       "model_id": "abef1779518a447d96d932433e5f7920"
      }
     },
     "metadata": {},
     "output_type": "display_data"
    },
    {
     "name": "stdout",
     "output_type": "stream",
     "text": [
      "Epoch [10/20], Average Loss: 0.0814\n",
      "\n"
     ]
    },
    {
     "data": {
      "text/plain": [
       "Batches:   0%|          | 0/469 [00:00<?, ?it/s]"
      ],
      "application/vnd.jupyter.widget-view+json": {
       "version_major": 2,
       "version_minor": 0,
       "model_id": "0ef1a0feee434d4b8de93469fa5c0875"
      }
     },
     "metadata": {},
     "output_type": "display_data"
    },
    {
     "name": "stdout",
     "output_type": "stream",
     "text": [
      "Epoch [11/20], Average Loss: 0.0812\n",
      "\n"
     ]
    },
    {
     "data": {
      "text/plain": [
       "Batches:   0%|          | 0/469 [00:00<?, ?it/s]"
      ],
      "application/vnd.jupyter.widget-view+json": {
       "version_major": 2,
       "version_minor": 0,
       "model_id": "497a4208ceff4aaa89ece306d056c507"
      }
     },
     "metadata": {},
     "output_type": "display_data"
    },
    {
     "name": "stdout",
     "output_type": "stream",
     "text": [
      "Epoch [12/20], Average Loss: 0.0810\n",
      "\n"
     ]
    },
    {
     "data": {
      "text/plain": [
       "Batches:   0%|          | 0/469 [00:00<?, ?it/s]"
      ],
      "application/vnd.jupyter.widget-view+json": {
       "version_major": 2,
       "version_minor": 0,
       "model_id": "957404bd27e34a1495ec7b088f776622"
      }
     },
     "metadata": {},
     "output_type": "display_data"
    },
    {
     "name": "stdout",
     "output_type": "stream",
     "text": [
      "Epoch [13/20], Average Loss: 0.0807\n",
      "\n"
     ]
    },
    {
     "data": {
      "text/plain": [
       "Batches:   0%|          | 0/469 [00:00<?, ?it/s]"
      ],
      "application/vnd.jupyter.widget-view+json": {
       "version_major": 2,
       "version_minor": 0,
       "model_id": "ad4aa6be2c3a40b89b7de48c3bb6bfcc"
      }
     },
     "metadata": {},
     "output_type": "display_data"
    },
    {
     "name": "stdout",
     "output_type": "stream",
     "text": [
      "Epoch [14/20], Average Loss: 0.0805\n",
      "\n"
     ]
    },
    {
     "data": {
      "text/plain": [
       "Batches:   0%|          | 0/469 [00:00<?, ?it/s]"
      ],
      "application/vnd.jupyter.widget-view+json": {
       "version_major": 2,
       "version_minor": 0,
       "model_id": "3abc23a971644d1aa87a941c081b490d"
      }
     },
     "metadata": {},
     "output_type": "display_data"
    },
    {
     "name": "stdout",
     "output_type": "stream",
     "text": [
      "Epoch [15/20], Average Loss: 0.0803\n",
      "\n"
     ]
    },
    {
     "data": {
      "text/plain": [
       "Batches:   0%|          | 0/469 [00:00<?, ?it/s]"
      ],
      "application/vnd.jupyter.widget-view+json": {
       "version_major": 2,
       "version_minor": 0,
       "model_id": "aa9e0882af924d08b3597c2739ec89fc"
      }
     },
     "metadata": {},
     "output_type": "display_data"
    },
    {
     "name": "stdout",
     "output_type": "stream",
     "text": [
      "Epoch [16/20], Average Loss: 0.0802\n",
      "\n"
     ]
    },
    {
     "data": {
      "text/plain": [
       "Batches:   0%|          | 0/469 [00:00<?, ?it/s]"
      ],
      "application/vnd.jupyter.widget-view+json": {
       "version_major": 2,
       "version_minor": 0,
       "model_id": "d7622296e4df4ffe8decdb5fb8a24386"
      }
     },
     "metadata": {},
     "output_type": "display_data"
    },
    {
     "name": "stdout",
     "output_type": "stream",
     "text": [
      "Epoch [17/20], Average Loss: 0.0800\n",
      "\n"
     ]
    },
    {
     "data": {
      "text/plain": [
       "Batches:   0%|          | 0/469 [00:00<?, ?it/s]"
      ],
      "application/vnd.jupyter.widget-view+json": {
       "version_major": 2,
       "version_minor": 0,
       "model_id": "f17fdacc1cd84b49a5afe622fd2af5f4"
      }
     },
     "metadata": {},
     "output_type": "display_data"
    },
    {
     "name": "stdout",
     "output_type": "stream",
     "text": [
      "Epoch [18/20], Average Loss: 0.0799\n",
      "\n"
     ]
    },
    {
     "data": {
      "text/plain": [
       "Batches:   0%|          | 0/469 [00:00<?, ?it/s]"
      ],
      "application/vnd.jupyter.widget-view+json": {
       "version_major": 2,
       "version_minor": 0,
       "model_id": "ef8c3e2f3eb142e98313061fad0cbd1d"
      }
     },
     "metadata": {},
     "output_type": "display_data"
    },
    {
     "name": "stdout",
     "output_type": "stream",
     "text": [
      "Epoch [19/20], Average Loss: 0.0797\n",
      "\n"
     ]
    },
    {
     "data": {
      "text/plain": [
       "Batches:   0%|          | 0/469 [00:00<?, ?it/s]"
      ],
      "application/vnd.jupyter.widget-view+json": {
       "version_major": 2,
       "version_minor": 0,
       "model_id": "914c51509e5347b99820a8e3458af182"
      }
     },
     "metadata": {},
     "output_type": "display_data"
    },
    {
     "name": "stdout",
     "output_type": "stream",
     "text": [
      "Epoch [20/20], Average Loss: 0.0797\n",
      "\n"
     ]
    }
   ],
   "execution_count": 12
  },
  {
   "cell_type": "markdown",
   "metadata": {
    "id": "epotdWhTpo62"
   },
   "source": [
    "# e. Evaluation (Reconstruction)"
   ]
  },
  {
   "cell_type": "code",
   "metadata": {
    "id": "KLW9jRCyfiOd",
    "ExecuteTime": {
     "end_time": "2025-01-04T09:31:31.534234Z",
     "start_time": "2025-01-04T09:31:30.793423Z"
    }
   },
   "source": [
    "H, W = 28, 28\n",
    "\n",
    "with torch.no_grad():\n",
    "  for iter, (images, labels) in enumerate(test_loader):\n",
    "      images = images.to(device)\n",
    "      labels = labels.to(device)\n",
    "      labels = F.one_hot(labels, num_classes=n_classes).float()\n",
    "      pred = model(images, labels)\n",
    "\n",
    "      for i in range(H):\n",
    "          for j in range(W):\n",
    "              pred[:, :, i, j] = torch.bernoulli(pred[:, :, i, j], out=pred[:, :, i, j])\n",
    "      break\n",
    "\n",
    "samples = pred.detach().cpu().numpy().transpose(0, 2, 3, 1)\n",
    "fig, axes = plt.subplots(8, 8, figsize=(15, 15))\n",
    "\n",
    "for i in range(64):\n",
    "    sample = samples[i]\n",
    "    row, col = divmod(i, 8)\n",
    "    axes[row, col].imshow(sample, cmap='gray')\n",
    "    axes[row, col].axis('off')\n",
    "\n",
    "plt.tight_layout()\n",
    "plt.show()"
   ],
   "outputs": [
    {
     "data": {
      "text/plain": [
       "<Figure size 1500x1500 with 64 Axes>"
      ],
      "image/png": "[encoded data removed]"
     },
     "metadata": {},
     "output_type": "display_data"
    }
   ],
   "execution_count": 13
  },
  {
   "cell_type": "markdown",
   "metadata": {
    "id": "hvOHwS6yptWn"
   },
   "source": [
    "# f. Evaluation (Generation)"
   ]
  },
  {
   "cell_type": "code",
   "metadata": {
    "id": "YIGipU7ofRJF",
    "ExecuteTime": {
     "end_time": "2025-01-04T09:31:35.620079Z",
     "start_time": "2025-01-04T09:31:31.539567Z"
    }
   },
   "source": [
    "samples = torch.zeros(size=(60, 1, H, W)).to(device)\n",
    "sample_classes = np.sort(np.array([np.arange(n_classes)] * 6).flatten())\n",
    "sample_classes = F.one_hot(torch.tensor(sample_classes).long(), num_classes=n_classes).to(device).float()\n",
    "\n",
    "with torch.no_grad():\n",
    "    for i in range(H):\n",
    "        for j in range(W):\n",
    "            if j > 0 and i > 0:\n",
    "                out = model(samples, sample_classes)\n",
    "                samples[:, :, i, j] = torch.bernoulli(out[:, :, i, j], out=samples[:, :, i, j])\n",
    "\n",
    "samples = samples.cpu().numpy().transpose(0, 2, 3, 1)\n",
    "fig, axes = plt.subplots(10, 6, figsize=(15, 30))\n",
    "\n",
    "for i in range(60):\n",
    "    sample = samples[i]\n",
    "    row, col = divmod(i, 6)\n",
    "    axes[row, col].imshow(sample, cmap='gray')\n",
    "    axes[row, col].axis('off')\n",
    "\n",
    "plt.tight_layout()\n",
    "plt.show()"
   ],
   "outputs": [
    {
     "data": {
      "text/plain": [
       "<Figure size 1500x3000 with 60 Axes>"
      ],
      "image/png": "[encoded data removed]"
     },
     "metadata": {},
     "output_type": "display_data"
    }
   ],
   "execution_count": 14
  }
 ],
 "metadata": {
  "accelerator": "GPU",
  "colab": {
   "gpuType": "T4",
   "machine_shape": "hm",
   "provenance": []
  },
  "kernelspec": {
   "display_name": "Python 3 (ipykernel)",
   "language": "python",
   "name": "python3"
  },
  "language_info": {
   "codemirror_mode": {
    "name": "ipython",
    "version": 3
   },
   "file_extension": ".py",
   "mimetype": "text/x-python",
   "name": "python",
   "nbconvert_exporter": "python",
   "pygments_lexer": "ipython3",
   "version": "3.10.11"
  }
 },
 "nbformat": 4,
 "nbformat_minor": 4
}
